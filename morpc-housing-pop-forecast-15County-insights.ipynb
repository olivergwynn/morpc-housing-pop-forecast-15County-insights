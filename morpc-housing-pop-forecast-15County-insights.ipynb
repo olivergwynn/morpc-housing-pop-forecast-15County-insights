{
 "cells": [
  {
   "cell_type": "markdown",
   "id": "fc86e38b-fa72-4c39-9947-fb24773dd934",
   "metadata": {},
   "source": [
    "# Housing and Pop Forecasts 15County 2020-2050 "
   ]
  },
  {
   "cell_type": "markdown",
   "id": "3121924a-9f8a-443a-b917-14deddb96a12",
   "metadata": {},
   "source": [
    "## Setup"
   ]
  },
  {
   "cell_type": "code",
   "execution_count": 1,
   "id": "6b6caf69-c313-4d13-9fa6-dbd77897bd8d",
   "metadata": {},
   "outputs": [
    {
     "name": "stderr",
     "output_type": "stream",
     "text": [
      "C:\\Users\\ogwynn\\AppData\\Local\\Packages\\PythonSoftwareFoundation.Python.3.12_qbz5n2kfra8p0\\LocalCache\\local-packages\\Python312\\site-packages\\dask\\dataframe\\__init__.py:49: FutureWarning: \n",
      "Dask dataframe query planning is disabled because dask-expr is not installed.\n",
      "\n",
      "You can install it with `pip install dask[dataframe]` or `conda install dask`.\n",
      "This will raise in a future version.\n",
      "\n",
      "  warnings.warn(msg, FutureWarning)\n"
     ]
    }
   ],
   "source": [
    "import pandas as pd\n",
    "import os\n",
    "import matplotlib.pyplot as plt\n",
    "import time\n",
    "from arcgis.features import FeatureLayerCollection\n",
    "from arcgis.gis import GIS\n",
    "from pathlib import Path\n",
    "from zipfile import ZipFile\n",
    "import pandas as pd\n",
    "\n",
    "# Connect to ArcGIS Online\n",
    "gis = GIS(\"https://www.arcgis.com\", \"ogwynn_morpc\", \"Cr33p3r11!!\")"
   ]
  },
  {
   "cell_type": "markdown",
   "id": "ebb846e2-06b9-48c5-9d4c-1846b3d6db1e",
   "metadata": {},
   "source": [
    "### Output/input pathing"
   ]
  },
  {
   "cell_type": "code",
   "execution_count": 2,
   "id": "329087cd-3784-4e35-a45a-f799a5f402e2",
   "metadata": {},
   "outputs": [],
   "source": [
    "# Load the uploaded file\n",
    "INPUT_DATA_PATH = 'inputData/CountyControls_WEB_allData_Long.csv'\n",
    "\n",
    "# Directory where images are saved\n",
    "output_dir = 'outputData/plots'\n",
    "os.makedirs(output_dir, exist_ok=True)"
   ]
  },
  {
   "cell_type": "markdown",
   "id": "d5c32686-ffac-464a-a728-879d215d6c60",
   "metadata": {},
   "source": [
    "### Plot colors/paramters"
   ]
  },
  {
   "cell_type": "code",
   "execution_count": 3,
   "id": "ae52fd96-e689-49d4-a786-b4aa8fd8abf3",
   "metadata": {},
   "outputs": [],
   "source": [
    "# Dictionary to store COUNTY to itemID mapping to update insights catalog\n",
    "county_item_mapping = {}"
   ]
  },
  {
   "cell_type": "markdown",
   "id": "8c3cd2d7-e04b-44b1-8f40-16f42388b089",
   "metadata": {},
   "source": [
    "## Pulling Existing Catalog from AGO"
   ]
  },
  {
   "cell_type": "code",
   "execution_count": 4,
   "id": "61f49a80-17bf-478a-8100-a8d733f53d57",
   "metadata": {},
   "outputs": [
    {
     "name": "stdout",
     "output_type": "stream",
     "text": [
      "Excel file downloaded successfully: inputData\\insightsCatalog\\morpc_insights_catalog.xlsx\n"
     ]
    }
   ],
   "source": [
    "# Define the directory to save the data\n",
    "data_path = Path('inputData/insightsCatalog')\n",
    "data_path.mkdir(parents=True, exist_ok=True)\n",
    "\n",
    "# Access the CSV item by ID\n",
    "catalog_item_id = \"c396b9d0db724d1f870fa47f1d1dc1ce\"\n",
    "csv_item = gis.content.get(catalog_item_id)\n",
    "\n",
    "# Download the CSV file\n",
    "catalog_path = csv_item.download(save_path=data_path)\n",
    "\n",
    "print(f\"Excel file downloaded successfully: {catalog_path}\")"
   ]
  },
  {
   "cell_type": "markdown",
   "id": "5720eef0-10eb-4450-9443-f32a456ffa9a",
   "metadata": {},
   "source": [
    "## Creating plots for 15 counties and region summary"
   ]
  },
  {
   "cell_type": "code",
   "execution_count": 5,
   "id": "a550a141-51c4-4857-9b5c-4be637535e40",
   "metadata": {},
   "outputs": [
    {
     "name": "stdout",
     "output_type": "stream",
     "text": [
      "Updated plots saved in the 'outputData/plots' directory with 16:9 aspect ratio and font size 15.\n"
     ]
    }
   ],
   "source": [
    "import pandas as pd\n",
    "import matplotlib.pyplot as plt\n",
    "import os\n",
    "\n",
    "# Load the dataset\n",
    "file_path = 'inputData/CountyControls_WEB_allData_Long.csv'\n",
    "df = pd.read_csv(file_path)\n",
    "\n",
    "# Define relevant variables\n",
    "relevant_variables = [\n",
    "    'Household Population Under 18', 'Population Ages 18 - 64',\n",
    "    'Household Population 65 and Older', 'Households', 'Housing Units', \n",
    "    'Workers', 'Labor Force'\n",
    "]\n",
    "\n",
    "# Filter data based on specified conditions\n",
    "filtered_df = df[\n",
    "    (df['VARIABLE'].isin(relevant_variables)) & \n",
    "    (df['COUNTY'] != '10-County Region')\n",
    "]\n",
    "\n",
    "\n",
    "# Define color palette\n",
    "colors = ['#365072', '#0075BF', '#00B2BF', '#2A7F67', '#8DBF00', '#A5BF00', '#4F8FC0']\n",
    "\n",
    "# Get unique county names after filtering\n",
    "unique_counties = filtered_df['COUNTY'].unique()\n",
    "\n",
    "# Generate line plots with 16:9 aspect ratio and updated font size\n",
    "for county in unique_counties:\n",
    "    subset = filtered_df[filtered_df['COUNTY'] == county]\n",
    "\n",
    "    # Pivot the data for easier plotting\n",
    "    pivot_data = subset.pivot(index='Year', columns='VARIABLE', values='Value')\n",
    "\n",
    "    plt.figure(figsize=(16, 9))  # Set aspect ratio to 16:9\n",
    "    for i, col in enumerate(pivot_data.columns):\n",
    "        plt.plot(pivot_data.index, pivot_data[col], marker='o', label=col, color=colors[i % len(colors)])\n",
    "\n",
    "    plt.title(f\"Population and Housing Forecast in {county} County (2020-2050)\", fontsize=18)\n",
    "\n",
    "    # Place legend below the plot\n",
    "    plt.legend(fontsize=15, loc='lower center', bbox_to_anchor=(0.5, -0.3), ncol=2, frameon=True)\n",
    "\n",
    "    plt.grid(True)\n",
    "    \n",
    "    # Remove x and y axis labels\n",
    "    plt.xticks(fontsize=15)\n",
    "    plt.yticks(fontsize=15)\n",
    "\n",
    "    # Save each plot in the created directory\n",
    "    filename = os.path.join(output_dir, f\"{county.replace(' ', '_')}_population_predictions.png\")\n",
    "    plt.savefig(filename, bbox_inches='tight')  # Ensure legend is fully captured\n",
    "    plt.close()\n",
    "\n",
    "print(f\"Updated plots saved in the '{output_dir}' directory with 16:9 aspect ratio and font size 15.\")\n"
   ]
  },
  {
   "cell_type": "markdown",
   "id": "6c9e7e14-ff33-480c-bf11-f88662ee5573",
   "metadata": {},
   "source": [
    "# Upload to AGO"
   ]
  },
  {
   "cell_type": "code",
   "execution_count": 6,
   "id": "c826c813-ab1f-484e-b8b9-b9c987477beb",
   "metadata": {},
   "outputs": [
    {
     "name": "stdout",
     "output_type": "stream",
     "text": [
      "Deleted existing item with title: 15-County Region population predictions\n"
     ]
    },
    {
     "name": "stderr",
     "output_type": "stream",
     "text": [
      "C:\\Users\\ogwynn\\AppData\\Local\\Packages\\PythonSoftwareFoundation.Python.3.12_qbz5n2kfra8p0\\LocalCache\\local-packages\\Python312\\site-packages\\IPython\\core\\interactiveshell.py:3577: DeprecatedWarning: add is deprecated as of 2.3.0 and has been removed in 3.0.0. Use `Folder.add()` instead.\n",
      "  exec(code_obj, self.user_global_ns, self.user_ns)\n",
      "C:\\Users\\ogwynn\\AppData\\Local\\Packages\\PythonSoftwareFoundation.Python.3.12_qbz5n2kfra8p0\\LocalCache\\local-packages\\Python312\\site-packages\\IPython\\core\\interactiveshell.py:3577: DeprecatedWarning: share is deprecated as of 2.3.0 and has been removed in 3.0.0. Use `Item.sharing` instead.\n",
      "  exec(code_obj, self.user_global_ns, self.user_ns)\n"
     ]
    },
    {
     "name": "stdout",
     "output_type": "stream",
     "text": [
      "Uploaded 15-County_Region_population_predictions.png with item ID: b14467f97d074c4dae0947ad3858b4b6 and set it to public\n",
      "Deleted existing item with title: Delaware population predictions\n"
     ]
    },
    {
     "name": "stderr",
     "output_type": "stream",
     "text": [
      "C:\\Users\\ogwynn\\AppData\\Local\\Packages\\PythonSoftwareFoundation.Python.3.12_qbz5n2kfra8p0\\LocalCache\\local-packages\\Python312\\site-packages\\IPython\\core\\interactiveshell.py:3577: DeprecatedWarning: add is deprecated as of 2.3.0 and has been removed in 3.0.0. Use `Folder.add()` instead.\n",
      "  exec(code_obj, self.user_global_ns, self.user_ns)\n",
      "C:\\Users\\ogwynn\\AppData\\Local\\Packages\\PythonSoftwareFoundation.Python.3.12_qbz5n2kfra8p0\\LocalCache\\local-packages\\Python312\\site-packages\\IPython\\core\\interactiveshell.py:3577: DeprecatedWarning: share is deprecated as of 2.3.0 and has been removed in 3.0.0. Use `Item.sharing` instead.\n",
      "  exec(code_obj, self.user_global_ns, self.user_ns)\n"
     ]
    },
    {
     "name": "stdout",
     "output_type": "stream",
     "text": [
      "Uploaded Delaware_population_predictions.png with item ID: e9e3cff855464e149703ce11e4e313fc and set it to public\n",
      "Deleted existing item with title: Fairfield population predictions\n"
     ]
    },
    {
     "name": "stderr",
     "output_type": "stream",
     "text": [
      "C:\\Users\\ogwynn\\AppData\\Local\\Packages\\PythonSoftwareFoundation.Python.3.12_qbz5n2kfra8p0\\LocalCache\\local-packages\\Python312\\site-packages\\IPython\\core\\interactiveshell.py:3577: DeprecatedWarning: add is deprecated as of 2.3.0 and has been removed in 3.0.0. Use `Folder.add()` instead.\n",
      "  exec(code_obj, self.user_global_ns, self.user_ns)\n",
      "C:\\Users\\ogwynn\\AppData\\Local\\Packages\\PythonSoftwareFoundation.Python.3.12_qbz5n2kfra8p0\\LocalCache\\local-packages\\Python312\\site-packages\\IPython\\core\\interactiveshell.py:3577: DeprecatedWarning: share is deprecated as of 2.3.0 and has been removed in 3.0.0. Use `Item.sharing` instead.\n",
      "  exec(code_obj, self.user_global_ns, self.user_ns)\n"
     ]
    },
    {
     "name": "stdout",
     "output_type": "stream",
     "text": [
      "Uploaded Fairfield_population_predictions.png with item ID: 701bea4be24141fcb99ec5b05c196967 and set it to public\n",
      "Deleted existing item with title: Fayette population predictions\n"
     ]
    },
    {
     "name": "stderr",
     "output_type": "stream",
     "text": [
      "C:\\Users\\ogwynn\\AppData\\Local\\Packages\\PythonSoftwareFoundation.Python.3.12_qbz5n2kfra8p0\\LocalCache\\local-packages\\Python312\\site-packages\\IPython\\core\\interactiveshell.py:3577: DeprecatedWarning: add is deprecated as of 2.3.0 and has been removed in 3.0.0. Use `Folder.add()` instead.\n",
      "  exec(code_obj, self.user_global_ns, self.user_ns)\n",
      "C:\\Users\\ogwynn\\AppData\\Local\\Packages\\PythonSoftwareFoundation.Python.3.12_qbz5n2kfra8p0\\LocalCache\\local-packages\\Python312\\site-packages\\IPython\\core\\interactiveshell.py:3577: DeprecatedWarning: share is deprecated as of 2.3.0 and has been removed in 3.0.0. Use `Item.sharing` instead.\n",
      "  exec(code_obj, self.user_global_ns, self.user_ns)\n"
     ]
    },
    {
     "name": "stdout",
     "output_type": "stream",
     "text": [
      "Uploaded Fayette_population_predictions.png with item ID: 50d56dfceb37441893e5dcebe720a667 and set it to public\n",
      "Deleted existing item with title: Franklin population predictions\n"
     ]
    },
    {
     "name": "stderr",
     "output_type": "stream",
     "text": [
      "C:\\Users\\ogwynn\\AppData\\Local\\Packages\\PythonSoftwareFoundation.Python.3.12_qbz5n2kfra8p0\\LocalCache\\local-packages\\Python312\\site-packages\\IPython\\core\\interactiveshell.py:3577: DeprecatedWarning: add is deprecated as of 2.3.0 and has been removed in 3.0.0. Use `Folder.add()` instead.\n",
      "  exec(code_obj, self.user_global_ns, self.user_ns)\n",
      "C:\\Users\\ogwynn\\AppData\\Local\\Packages\\PythonSoftwareFoundation.Python.3.12_qbz5n2kfra8p0\\LocalCache\\local-packages\\Python312\\site-packages\\IPython\\core\\interactiveshell.py:3577: DeprecatedWarning: share is deprecated as of 2.3.0 and has been removed in 3.0.0. Use `Item.sharing` instead.\n",
      "  exec(code_obj, self.user_global_ns, self.user_ns)\n"
     ]
    },
    {
     "name": "stdout",
     "output_type": "stream",
     "text": [
      "Uploaded Franklin_population_predictions.png with item ID: 12ceab5c2a8842aeb65b58f4e332eb10 and set it to public\n",
      "Deleted existing item with title: Hocking population predictions\n"
     ]
    },
    {
     "name": "stderr",
     "output_type": "stream",
     "text": [
      "C:\\Users\\ogwynn\\AppData\\Local\\Packages\\PythonSoftwareFoundation.Python.3.12_qbz5n2kfra8p0\\LocalCache\\local-packages\\Python312\\site-packages\\IPython\\core\\interactiveshell.py:3577: DeprecatedWarning: add is deprecated as of 2.3.0 and has been removed in 3.0.0. Use `Folder.add()` instead.\n",
      "  exec(code_obj, self.user_global_ns, self.user_ns)\n",
      "C:\\Users\\ogwynn\\AppData\\Local\\Packages\\PythonSoftwareFoundation.Python.3.12_qbz5n2kfra8p0\\LocalCache\\local-packages\\Python312\\site-packages\\IPython\\core\\interactiveshell.py:3577: DeprecatedWarning: share is deprecated as of 2.3.0 and has been removed in 3.0.0. Use `Item.sharing` instead.\n",
      "  exec(code_obj, self.user_global_ns, self.user_ns)\n"
     ]
    },
    {
     "name": "stdout",
     "output_type": "stream",
     "text": [
      "Uploaded Hocking_population_predictions.png with item ID: b1972af96ded408898005a41d13f482e and set it to public\n",
      "Deleted existing item with title: Knox population predictions\n"
     ]
    },
    {
     "name": "stderr",
     "output_type": "stream",
     "text": [
      "C:\\Users\\ogwynn\\AppData\\Local\\Packages\\PythonSoftwareFoundation.Python.3.12_qbz5n2kfra8p0\\LocalCache\\local-packages\\Python312\\site-packages\\IPython\\core\\interactiveshell.py:3577: DeprecatedWarning: add is deprecated as of 2.3.0 and has been removed in 3.0.0. Use `Folder.add()` instead.\n",
      "  exec(code_obj, self.user_global_ns, self.user_ns)\n",
      "C:\\Users\\ogwynn\\AppData\\Local\\Packages\\PythonSoftwareFoundation.Python.3.12_qbz5n2kfra8p0\\LocalCache\\local-packages\\Python312\\site-packages\\IPython\\core\\interactiveshell.py:3577: DeprecatedWarning: share is deprecated as of 2.3.0 and has been removed in 3.0.0. Use `Item.sharing` instead.\n",
      "  exec(code_obj, self.user_global_ns, self.user_ns)\n"
     ]
    },
    {
     "name": "stdout",
     "output_type": "stream",
     "text": [
      "Uploaded Knox_population_predictions.png with item ID: f346f278d9a84bc19e0c3f5a22866ac7 and set it to public\n",
      "Deleted existing item with title: Licking population predictions\n"
     ]
    },
    {
     "name": "stderr",
     "output_type": "stream",
     "text": [
      "C:\\Users\\ogwynn\\AppData\\Local\\Packages\\PythonSoftwareFoundation.Python.3.12_qbz5n2kfra8p0\\LocalCache\\local-packages\\Python312\\site-packages\\IPython\\core\\interactiveshell.py:3577: DeprecatedWarning: add is deprecated as of 2.3.0 and has been removed in 3.0.0. Use `Folder.add()` instead.\n",
      "  exec(code_obj, self.user_global_ns, self.user_ns)\n",
      "C:\\Users\\ogwynn\\AppData\\Local\\Packages\\PythonSoftwareFoundation.Python.3.12_qbz5n2kfra8p0\\LocalCache\\local-packages\\Python312\\site-packages\\IPython\\core\\interactiveshell.py:3577: DeprecatedWarning: share is deprecated as of 2.3.0 and has been removed in 3.0.0. Use `Item.sharing` instead.\n",
      "  exec(code_obj, self.user_global_ns, self.user_ns)\n"
     ]
    },
    {
     "name": "stdout",
     "output_type": "stream",
     "text": [
      "Uploaded Licking_population_predictions.png with item ID: 792bcfb75cd04fd29ed678883dc0ddf8 and set it to public\n",
      "Deleted existing item with title: Logan population predictions\n"
     ]
    },
    {
     "name": "stderr",
     "output_type": "stream",
     "text": [
      "C:\\Users\\ogwynn\\AppData\\Local\\Packages\\PythonSoftwareFoundation.Python.3.12_qbz5n2kfra8p0\\LocalCache\\local-packages\\Python312\\site-packages\\IPython\\core\\interactiveshell.py:3577: DeprecatedWarning: add is deprecated as of 2.3.0 and has been removed in 3.0.0. Use `Folder.add()` instead.\n",
      "  exec(code_obj, self.user_global_ns, self.user_ns)\n",
      "C:\\Users\\ogwynn\\AppData\\Local\\Packages\\PythonSoftwareFoundation.Python.3.12_qbz5n2kfra8p0\\LocalCache\\local-packages\\Python312\\site-packages\\IPython\\core\\interactiveshell.py:3577: DeprecatedWarning: share is deprecated as of 2.3.0 and has been removed in 3.0.0. Use `Item.sharing` instead.\n",
      "  exec(code_obj, self.user_global_ns, self.user_ns)\n"
     ]
    },
    {
     "name": "stdout",
     "output_type": "stream",
     "text": [
      "Uploaded Logan_population_predictions.png with item ID: 5f393c9fc2f34ae9a5443edfdd1d2e11 and set it to public\n",
      "Deleted existing item with title: Madison population predictions\n"
     ]
    },
    {
     "name": "stderr",
     "output_type": "stream",
     "text": [
      "C:\\Users\\ogwynn\\AppData\\Local\\Packages\\PythonSoftwareFoundation.Python.3.12_qbz5n2kfra8p0\\LocalCache\\local-packages\\Python312\\site-packages\\IPython\\core\\interactiveshell.py:3577: DeprecatedWarning: add is deprecated as of 2.3.0 and has been removed in 3.0.0. Use `Folder.add()` instead.\n",
      "  exec(code_obj, self.user_global_ns, self.user_ns)\n",
      "C:\\Users\\ogwynn\\AppData\\Local\\Packages\\PythonSoftwareFoundation.Python.3.12_qbz5n2kfra8p0\\LocalCache\\local-packages\\Python312\\site-packages\\IPython\\core\\interactiveshell.py:3577: DeprecatedWarning: share is deprecated as of 2.3.0 and has been removed in 3.0.0. Use `Item.sharing` instead.\n",
      "  exec(code_obj, self.user_global_ns, self.user_ns)\n"
     ]
    },
    {
     "name": "stdout",
     "output_type": "stream",
     "text": [
      "Uploaded Madison_population_predictions.png with item ID: 8f34a23bd046466ebcbd92d3f5d15dea and set it to public\n",
      "Deleted existing item with title: Marion population predictions\n"
     ]
    },
    {
     "name": "stderr",
     "output_type": "stream",
     "text": [
      "C:\\Users\\ogwynn\\AppData\\Local\\Packages\\PythonSoftwareFoundation.Python.3.12_qbz5n2kfra8p0\\LocalCache\\local-packages\\Python312\\site-packages\\IPython\\core\\interactiveshell.py:3577: DeprecatedWarning: add is deprecated as of 2.3.0 and has been removed in 3.0.0. Use `Folder.add()` instead.\n",
      "  exec(code_obj, self.user_global_ns, self.user_ns)\n",
      "C:\\Users\\ogwynn\\AppData\\Local\\Packages\\PythonSoftwareFoundation.Python.3.12_qbz5n2kfra8p0\\LocalCache\\local-packages\\Python312\\site-packages\\IPython\\core\\interactiveshell.py:3577: DeprecatedWarning: share is deprecated as of 2.3.0 and has been removed in 3.0.0. Use `Item.sharing` instead.\n",
      "  exec(code_obj, self.user_global_ns, self.user_ns)\n"
     ]
    },
    {
     "name": "stdout",
     "output_type": "stream",
     "text": [
      "Uploaded Marion_population_predictions.png with item ID: db6e71020a6d4d50b8bdd312de6722e4 and set it to public\n",
      "Deleted existing item with title: Morrow population predictions\n"
     ]
    },
    {
     "name": "stderr",
     "output_type": "stream",
     "text": [
      "C:\\Users\\ogwynn\\AppData\\Local\\Packages\\PythonSoftwareFoundation.Python.3.12_qbz5n2kfra8p0\\LocalCache\\local-packages\\Python312\\site-packages\\IPython\\core\\interactiveshell.py:3577: DeprecatedWarning: add is deprecated as of 2.3.0 and has been removed in 3.0.0. Use `Folder.add()` instead.\n",
      "  exec(code_obj, self.user_global_ns, self.user_ns)\n",
      "C:\\Users\\ogwynn\\AppData\\Local\\Packages\\PythonSoftwareFoundation.Python.3.12_qbz5n2kfra8p0\\LocalCache\\local-packages\\Python312\\site-packages\\IPython\\core\\interactiveshell.py:3577: DeprecatedWarning: share is deprecated as of 2.3.0 and has been removed in 3.0.0. Use `Item.sharing` instead.\n",
      "  exec(code_obj, self.user_global_ns, self.user_ns)\n"
     ]
    },
    {
     "name": "stdout",
     "output_type": "stream",
     "text": [
      "Uploaded Morrow_population_predictions.png with item ID: dae3a25ae2ac41a1985cb423620a8d7f and set it to public\n",
      "Deleted existing item with title: Perry population predictions\n"
     ]
    },
    {
     "name": "stderr",
     "output_type": "stream",
     "text": [
      "C:\\Users\\ogwynn\\AppData\\Local\\Packages\\PythonSoftwareFoundation.Python.3.12_qbz5n2kfra8p0\\LocalCache\\local-packages\\Python312\\site-packages\\IPython\\core\\interactiveshell.py:3577: DeprecatedWarning: add is deprecated as of 2.3.0 and has been removed in 3.0.0. Use `Folder.add()` instead.\n",
      "  exec(code_obj, self.user_global_ns, self.user_ns)\n",
      "C:\\Users\\ogwynn\\AppData\\Local\\Packages\\PythonSoftwareFoundation.Python.3.12_qbz5n2kfra8p0\\LocalCache\\local-packages\\Python312\\site-packages\\IPython\\core\\interactiveshell.py:3577: DeprecatedWarning: share is deprecated as of 2.3.0 and has been removed in 3.0.0. Use `Item.sharing` instead.\n",
      "  exec(code_obj, self.user_global_ns, self.user_ns)\n"
     ]
    },
    {
     "name": "stdout",
     "output_type": "stream",
     "text": [
      "Uploaded Perry_population_predictions.png with item ID: 6b7bd051e7eb4c7eb556fb35eca3f994 and set it to public\n",
      "Deleted existing item with title: Pickaway population predictions\n"
     ]
    },
    {
     "name": "stderr",
     "output_type": "stream",
     "text": [
      "C:\\Users\\ogwynn\\AppData\\Local\\Packages\\PythonSoftwareFoundation.Python.3.12_qbz5n2kfra8p0\\LocalCache\\local-packages\\Python312\\site-packages\\IPython\\core\\interactiveshell.py:3577: DeprecatedWarning: add is deprecated as of 2.3.0 and has been removed in 3.0.0. Use `Folder.add()` instead.\n",
      "  exec(code_obj, self.user_global_ns, self.user_ns)\n",
      "C:\\Users\\ogwynn\\AppData\\Local\\Packages\\PythonSoftwareFoundation.Python.3.12_qbz5n2kfra8p0\\LocalCache\\local-packages\\Python312\\site-packages\\IPython\\core\\interactiveshell.py:3577: DeprecatedWarning: share is deprecated as of 2.3.0 and has been removed in 3.0.0. Use `Item.sharing` instead.\n",
      "  exec(code_obj, self.user_global_ns, self.user_ns)\n"
     ]
    },
    {
     "name": "stdout",
     "output_type": "stream",
     "text": [
      "Uploaded Pickaway_population_predictions.png with item ID: 6dd6a0017e954b258ad181183c0e5732 and set it to public\n",
      "Deleted existing item with title: Ross population predictions\n"
     ]
    },
    {
     "name": "stderr",
     "output_type": "stream",
     "text": [
      "C:\\Users\\ogwynn\\AppData\\Local\\Packages\\PythonSoftwareFoundation.Python.3.12_qbz5n2kfra8p0\\LocalCache\\local-packages\\Python312\\site-packages\\IPython\\core\\interactiveshell.py:3577: DeprecatedWarning: add is deprecated as of 2.3.0 and has been removed in 3.0.0. Use `Folder.add()` instead.\n",
      "  exec(code_obj, self.user_global_ns, self.user_ns)\n",
      "C:\\Users\\ogwynn\\AppData\\Local\\Packages\\PythonSoftwareFoundation.Python.3.12_qbz5n2kfra8p0\\LocalCache\\local-packages\\Python312\\site-packages\\IPython\\core\\interactiveshell.py:3577: DeprecatedWarning: share is deprecated as of 2.3.0 and has been removed in 3.0.0. Use `Item.sharing` instead.\n",
      "  exec(code_obj, self.user_global_ns, self.user_ns)\n"
     ]
    },
    {
     "name": "stdout",
     "output_type": "stream",
     "text": [
      "Uploaded Ross_population_predictions.png with item ID: 2934eed2227847a895052761632202fa and set it to public\n",
      "Deleted existing item with title: Union population predictions\n"
     ]
    },
    {
     "name": "stderr",
     "output_type": "stream",
     "text": [
      "C:\\Users\\ogwynn\\AppData\\Local\\Packages\\PythonSoftwareFoundation.Python.3.12_qbz5n2kfra8p0\\LocalCache\\local-packages\\Python312\\site-packages\\IPython\\core\\interactiveshell.py:3577: DeprecatedWarning: add is deprecated as of 2.3.0 and has been removed in 3.0.0. Use `Folder.add()` instead.\n",
      "  exec(code_obj, self.user_global_ns, self.user_ns)\n",
      "C:\\Users\\ogwynn\\AppData\\Local\\Packages\\PythonSoftwareFoundation.Python.3.12_qbz5n2kfra8p0\\LocalCache\\local-packages\\Python312\\site-packages\\IPython\\core\\interactiveshell.py:3577: DeprecatedWarning: share is deprecated as of 2.3.0 and has been removed in 3.0.0. Use `Item.sharing` instead.\n",
      "  exec(code_obj, self.user_global_ns, self.user_ns)\n"
     ]
    },
    {
     "name": "stdout",
     "output_type": "stream",
     "text": [
      "Uploaded Union_population_predictions.png with item ID: 3f149e8b2c544493bddaab6151b3d4f4 and set it to public\n",
      "Upload complete. Mapping file saved as 'AGO_County_ItemURL_Mapping.csv'.\n"
     ]
    }
   ],
   "source": [
    "import time\n",
    "from arcgis.gis import GIS\n",
    "import os\n",
    "import pandas as pd\n",
    "\n",
    "output_dir = 'outputData/plots'\n",
    "\n",
    "# Initialize list to store county-item mappings\n",
    "county_item_mapping = []\n",
    "\n",
    "# Connect to ArcGIS Online\n",
    "gis = GIS(\"https://www.arcgis.com\", \"ogwynn_morpc\", \"Cr33p3r11!!\")\n",
    "\n",
    "# Loop through the output directory and upload files\n",
    "for filename in os.listdir(output_dir):\n",
    "    if filename.endswith(\".png\"):\n",
    "        file_path = os.path.join(output_dir, filename)\n",
    "        \n",
    "        # Define item properties\n",
    "        title = filename.replace(\"_\", \" \").replace(\".png\", \"\")\n",
    "        county_name = filename.split('_')[0]  # Extract county name from the filename\n",
    "        item_properties = {\n",
    "            \"title\": title,\n",
    "            \"description\": f\"Population and Housing Forecast in {county_name} County (2020-2050).\",\n",
    "            \"type\": \"Image\"\n",
    "        }\n",
    "        \n",
    "        # Search for an existing item with the same title\n",
    "        existing_items = gis.content.search(query=title, item_type=\"Image\", max_items=1)\n",
    "        if existing_items:\n",
    "            # If an existing item is found, delete it\n",
    "            existing_item = existing_items[0]\n",
    "            existing_item.delete()\n",
    "            print(f\"Deleted existing item with title: {title}\")\n",
    "            time.sleep(2)  # Wait for 2 seconds before uploading the new item\n",
    "\n",
    "        try:\n",
    "            # Upload the new image\n",
    "            image_item = gis.content.add(item_properties, data=file_path)\n",
    "            \n",
    "            # Make the item public\n",
    "            image_item.share(everyone=True)\n",
    "\n",
    "            # Append the county name, item URL, and title to the list\n",
    "            county_item_mapping.append((county_name, f\"https://www.arcgis.com/sharing/rest/content/items/{image_item.id}/data\", title))\n",
    "\n",
    "            # Print confirmation\n",
    "            print(f\"Uploaded {filename} with item ID: {image_item.id} and set it to public\")\n",
    "        \n",
    "        except Exception as e:\n",
    "            print(f\"Error uploading {filename}: {e}\")\n",
    "\n",
    "# Convert the list to a DataFrame and save\n",
    "mapping_df = pd.DataFrame(county_item_mapping, columns=['COUNTY', 'itemURL', 'title'])\n",
    "mapping_file_path = 'AGO_County_ItemURL_Mapping.csv'\n",
    "mapping_df['TilesetID'] = 12\n",
    "mapping_df.to_csv(mapping_file_path, index=False)\n",
    "\n",
    "print(f\"Upload complete. Mapping file saved as '{mapping_file_path}'.\")\n"
   ]
  },
  {
   "cell_type": "markdown",
   "id": "9ee7a91b-bb0d-4470-8df9-eccde2ff6d87",
   "metadata": {},
   "source": [
    "## Updating local catalog"
   ]
  },
  {
   "cell_type": "code",
   "execution_count": 7,
   "id": "d87895de-959b-486c-9052-ad41fecb864e",
   "metadata": {},
   "outputs": [
    {
     "data": {
      "text/html": [
       "<div>\n",
       "<style scoped>\n",
       "    .dataframe tbody tr th:only-of-type {\n",
       "        vertical-align: middle;\n",
       "    }\n",
       "\n",
       "    .dataframe tbody tr th {\n",
       "        vertical-align: top;\n",
       "    }\n",
       "\n",
       "    .dataframe thead th {\n",
       "        text-align: right;\n",
       "    }\n",
       "</style>\n",
       "<table border=\"1\" class=\"dataframe\">\n",
       "  <thead>\n",
       "    <tr style=\"text-align: right;\">\n",
       "      <th></th>\n",
       "      <th>TileID</th>\n",
       "      <th>TilesetID</th>\n",
       "      <th>GeographyType</th>\n",
       "      <th>GeographyName</th>\n",
       "      <th>Category</th>\n",
       "      <th>Headline</th>\n",
       "      <th>Commentary</th>\n",
       "      <th>ThumbnailURL</th>\n",
       "      <th>Contributor</th>\n",
       "      <th>Vintage</th>\n",
       "      <th>UpdateInterval</th>\n",
       "      <th>ShareURL</th>\n",
       "      <th>DataProductURL</th>\n",
       "      <th>MoreInformationURL</th>\n",
       "    </tr>\n",
       "  </thead>\n",
       "  <tbody>\n",
       "    <tr>\n",
       "      <th>0</th>\n",
       "      <td>1</td>\n",
       "      <td>1</td>\n",
       "      <td>Region</td>\n",
       "      <td>Central Ohio</td>\n",
       "      <td>Demographics</td>\n",
       "      <td>Strong and Steady Growth Projected for Central...</td>\n",
       "      <td>The 15-county &lt;b&gt; Central Ohio &lt;/b&gt; region is ...</td>\n",
       "      <td>https://morpc.maps.arcgis.com/sharing/rest/con...</td>\n",
       "      <td>MORPC Data Team</td>\n",
       "      <td>2023</td>\n",
       "      <td>4 years</td>\n",
       "      <td>NaN</td>\n",
       "      <td>https://www.morpc.org/wordpress/wp-content/upl...</td>\n",
       "      <td>NaN</td>\n",
       "    </tr>\n",
       "    <tr>\n",
       "      <th>1</th>\n",
       "      <td>2</td>\n",
       "      <td>2</td>\n",
       "      <td>Region</td>\n",
       "      <td>Central Ohio</td>\n",
       "      <td>Housing</td>\n",
       "      <td>Major Developments Will Have Widespread Impacts</td>\n",
       "      <td>Communities must collaborate with neighboring ...</td>\n",
       "      <td>https://morpc.maps.arcgis.com/sharing/rest/con...</td>\n",
       "      <td>MORPC Community Development Team</td>\n",
       "      <td>2023</td>\n",
       "      <td>Ad hoc</td>\n",
       "      <td>NaN</td>\n",
       "      <td>https://www.morpc.org/2023/wp-content/uploads/...</td>\n",
       "      <td>NaN</td>\n",
       "    </tr>\n",
       "    <tr>\n",
       "      <th>2</th>\n",
       "      <td>3</td>\n",
       "      <td>3</td>\n",
       "      <td>Region</td>\n",
       "      <td>Central Ohio</td>\n",
       "      <td>Wellness</td>\n",
       "      <td>Central Ohio Legacy Cities Foster Walkable Nei...</td>\n",
       "      <td>Ohio's legacy cities have many highly-sought f...</td>\n",
       "      <td>https://morpc.maps.arcgis.com/sharing/rest/con...</td>\n",
       "      <td>MORPC Data Team</td>\n",
       "      <td>2023</td>\n",
       "      <td>4 years</td>\n",
       "      <td>NaN</td>\n",
       "      <td>https://cura.osu.edu/events/strongtowns</td>\n",
       "      <td>NaN</td>\n",
       "    </tr>\n",
       "    <tr>\n",
       "      <th>3</th>\n",
       "      <td>4</td>\n",
       "      <td>4</td>\n",
       "      <td>Region</td>\n",
       "      <td>Central Ohio</td>\n",
       "      <td>Housing</td>\n",
       "      <td>Central Ohio Households On Track to Significan...</td>\n",
       "      <td>The number of households in the region is expe...</td>\n",
       "      <td>https://morpc.maps.arcgis.com/sharing/rest/con...</td>\n",
       "      <td>MORPC Data Team</td>\n",
       "      <td>2023</td>\n",
       "      <td>4 years</td>\n",
       "      <td>NaN</td>\n",
       "      <td>https://www.morpc.org/2023/wp-content/uploads/...</td>\n",
       "      <td>NaN</td>\n",
       "    </tr>\n",
       "    <tr>\n",
       "      <th>4</th>\n",
       "      <td>5</td>\n",
       "      <td>5</td>\n",
       "      <td>Region</td>\n",
       "      <td>Central Ohio</td>\n",
       "      <td>Transportation</td>\n",
       "      <td>Bicycle Involved Crashes and Fatalities Remain...</td>\n",
       "      <td>Dashboard data from the Ohio Department of Tra...</td>\n",
       "      <td>https://morpc.maps.arcgis.com/sharing/rest/con...</td>\n",
       "      <td>Ohio Department of Transportation</td>\n",
       "      <td>May 2023</td>\n",
       "      <td>Monthly</td>\n",
       "      <td>NaN</td>\n",
       "      <td>https://www.transportation.ohio.gov/programs/h...</td>\n",
       "      <td>NaN</td>\n",
       "    </tr>\n",
       "  </tbody>\n",
       "</table>\n",
       "</div>"
      ],
      "text/plain": [
       "   TileID  TilesetID GeographyType GeographyName        Category  \\\n",
       "0       1          1        Region  Central Ohio    Demographics   \n",
       "1       2          2        Region  Central Ohio         Housing   \n",
       "2       3          3        Region  Central Ohio        Wellness   \n",
       "3       4          4        Region  Central Ohio         Housing   \n",
       "4       5          5        Region  Central Ohio  Transportation   \n",
       "\n",
       "                                            Headline  \\\n",
       "0  Strong and Steady Growth Projected for Central...   \n",
       "1    Major Developments Will Have Widespread Impacts   \n",
       "2  Central Ohio Legacy Cities Foster Walkable Nei...   \n",
       "3  Central Ohio Households On Track to Significan...   \n",
       "4  Bicycle Involved Crashes and Fatalities Remain...   \n",
       "\n",
       "                                          Commentary  \\\n",
       "0  The 15-county <b> Central Ohio </b> region is ...   \n",
       "1  Communities must collaborate with neighboring ...   \n",
       "2  Ohio's legacy cities have many highly-sought f...   \n",
       "3  The number of households in the region is expe...   \n",
       "4  Dashboard data from the Ohio Department of Tra...   \n",
       "\n",
       "                                        ThumbnailURL  \\\n",
       "0  https://morpc.maps.arcgis.com/sharing/rest/con...   \n",
       "1  https://morpc.maps.arcgis.com/sharing/rest/con...   \n",
       "2  https://morpc.maps.arcgis.com/sharing/rest/con...   \n",
       "3  https://morpc.maps.arcgis.com/sharing/rest/con...   \n",
       "4  https://morpc.maps.arcgis.com/sharing/rest/con...   \n",
       "\n",
       "                         Contributor   Vintage UpdateInterval  ShareURL  \\\n",
       "0                    MORPC Data Team      2023        4 years       NaN   \n",
       "1   MORPC Community Development Team      2023         Ad hoc       NaN   \n",
       "2                    MORPC Data Team      2023        4 years       NaN   \n",
       "3                    MORPC Data Team      2023        4 years       NaN   \n",
       "4  Ohio Department of Transportation  May 2023        Monthly       NaN   \n",
       "\n",
       "                                      DataProductURL  MoreInformationURL  \n",
       "0  https://www.morpc.org/wordpress/wp-content/upl...                 NaN  \n",
       "1  https://www.morpc.org/2023/wp-content/uploads/...                 NaN  \n",
       "2            https://cura.osu.edu/events/strongtowns                 NaN  \n",
       "3  https://www.morpc.org/2023/wp-content/uploads/...                 NaN  \n",
       "4  https://www.transportation.ohio.gov/programs/h...                 NaN  "
      ]
     },
     "execution_count": 7,
     "metadata": {},
     "output_type": "execute_result"
    }
   ],
   "source": [
    "# Load the catalog data\n",
    "catalog_df = pd.read_excel(catalog_path)\n",
    "catalog_df.head()"
   ]
  },
  {
   "cell_type": "code",
   "execution_count": 8,
   "id": "c9650f75-e528-4be9-9018-f757f29d2ef6",
   "metadata": {},
   "outputs": [
    {
     "name": "stdout",
     "output_type": "stream",
     "text": [
      "Updated catalog saved at: outputData/morpc_insights_catalog_updated.xlsx\n"
     ]
    }
   ],
   "source": [
    "import pandas as pd\n",
    "\n",
    "# Load the catalog data\n",
    "catalog_df = pd.read_excel(catalog_path)\n",
    "\n",
    "# Load the mapping data\n",
    "mapping_df = pd.read_csv(mapping_file_path)\n",
    "\n",
    "# Standardize 'COUNTY' values in mapping_df\n",
    "mapping_df['COUNTY'] = mapping_df['COUNTY'].replace('15-County', '15County')\n",
    "\n",
    "# Create a mapping dictionary from mapping_df\n",
    "mapping_dict = dict(zip(zip(mapping_df['COUNTY'], mapping_df['TilesetID']), mapping_df['itemURL']))\n",
    "\n",
    "# Update 'ThumbnailURL' only where there is a match in mapping_dict\n",
    "catalog_df['ThumbnailURL'] = catalog_df.apply(\n",
    "    lambda row: mapping_dict.get((row['GeographyName'], row['TilesetID']), row['ThumbnailURL']),\n",
    "    axis=1\n",
    ")\n",
    "\n",
    "# Save the updated catalog back to an Excel file\n",
    "updated_catalog_path = \"outputData/morpc_insights_catalog_updated.xlsx\"\n",
    "catalog_df.to_excel(updated_catalog_path, index=False)\n",
    "\n",
    "# Provide the file to the user\n",
    "print(f\"Updated catalog saved at: {updated_catalog_path}\")\n"
   ]
  },
  {
   "cell_type": "markdown",
   "id": "a0f18e62-1cfa-4f4e-837e-1cefaa94ffca",
   "metadata": {},
   "source": [
    "## Pushing changes to AGO Excel"
   ]
  },
  {
   "cell_type": "code",
   "execution_count": 9,
   "id": "e06353ee-712e-43e6-a765-ab9b2219bff9",
   "metadata": {},
   "outputs": [
    {
     "name": "stdout",
     "output_type": "stream",
     "text": [
      "Found item: morpc_insights_catalog\n",
      "Successfully updated the Excel file in AGO.\n"
     ]
    }
   ],
   "source": [
    "# Define the item ID of the Excel file in AGO\n",
    "ITEM_ID = \"c396b9d0db724d1f870fa47f1d1dc1ce\"\n",
    "\n",
    "# Path to the updated Excel file\n",
    "updated_catalog_path = \"outputdata/morpc_insights_catalog_updated.xlsx\"\n",
    "\n",
    "# Get the existing item\n",
    "item = gis.content.get(ITEM_ID)\n",
    "\n",
    "if item:\n",
    "    print(f\"Found item: {item.title}\")\n",
    "\n",
    "    # Update the item with the new file\n",
    "    item.update(\n",
    "        item_properties={\"title\": item.title},  # Keeps the existing metadata\n",
    "        data=updated_catalog_path  # Replaces the file\n",
    "    )\n",
    "    \n",
    "    print(\"Successfully updated the Excel file in AGO.\")\n",
    "else:\n",
    "    print(\"Item not found. Check the item ID and your permissions.\")\n"
   ]
  }
 ],
 "metadata": {
  "kernelspec": {
   "display_name": "Python 3 (ipykernel)",
   "language": "python",
   "name": "python3"
  },
  "language_info": {
   "codemirror_mode": {
    "name": "ipython",
    "version": 3
   },
   "file_extension": ".py",
   "mimetype": "text/x-python",
   "name": "python",
   "nbconvert_exporter": "python",
   "pygments_lexer": "ipython3",
   "version": "3.12.8"
  }
 },
 "nbformat": 4,
 "nbformat_minor": 5
}
